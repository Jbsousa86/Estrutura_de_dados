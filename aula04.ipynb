{
 "cells": [
  {
   "cell_type": "markdown",
   "metadata": {},
   "source": [
    "Implementação de uma lista encadeada\n",
    "\n",
    "Nó de nossa lista"
   ]
  },
  {
   "cell_type": "code",
   "execution_count": 2,
   "metadata": {},
   "outputs": [],
   "source": [
    "class Node: \n",
    "    def __init__(self, qtd, preco, descricao):\n",
    "        self.qtd = qtd\n",
    "        self.preco = preco\n",
    "        self.descricao = descricao\n",
    "        self.next = None"
   ]
  },
  {
   "cell_type": "markdown",
   "metadata": {},
   "source": [
    "Lista"
   ]
  },
  {
   "cell_type": "code",
   "execution_count": 3,
   "metadata": {},
   "outputs": [],
   "source": [
    "class LinkedList:\n",
    "    def __init__(self):\n",
    "        self.head = None\n",
    "    \n",
    "    # Inserção de elementos\n",
    "    def inserir_no_inicio(self, qtd, preco, descricao):\n",
    "        new_node = Node(qtd, preco, descricao)\n",
    "        new_node.next = self.head\n",
    "        self.head = new_node\n",
    "\n",
    "    def remover_duplicados(self):\n",
    "        if self.head is None:\n",
    "          return\n",
    "        \n",
    "        elementos_vistos = set()\n",
    "        no_corrente = self.head\n",
    "        last = None\n",
    "\n",
    "        while no_corrente:\n",
    "\n",
    "            if  (no_corrente.qtd, no_corrente.preco, no_corrente.descricao) in elementos_vistos:\n",
    "                last.next = no_corrente.next\n",
    "                no_corrente = no_corrente.next\n",
    "            else:\n",
    "                elementos_vistos.add( (no_corrente.qtd, no_corrente.preco, no_corrente.descricao))\n",
    "                last = no_corrente\n",
    "                \n",
    "                no_corrente = no_corrente.next\n",
    "\n",
    "    def exibir_lista(self):\n",
    "        no_corrente = self.head  \n",
    "        while (no_corrente):\n",
    "            print(f\"Quantidade: {no_corrente.qtd} Preço: {no_corrente.preco} Descrição: {no_corrente.descricao}\") \n",
    "            no_corrente = no_corrente.next    \n"
   ]
  },
  {
   "cell_type": "markdown",
   "metadata": {},
   "source": [
    "Teste de uso"
   ]
  },
  {
   "cell_type": "code",
   "execution_count": 4,
   "metadata": {},
   "outputs": [
    {
     "name": "stdout",
     "output_type": "stream",
     "text": [
      "Quantidade: 1 Preço: 7.0 Descrição: Óleo de soja\n",
      "Quantidade: 1 Preço: 15.0 Descrição: Café\n",
      "Quantidade: 1 Preço: 15.0 Descrição: Café\n",
      "Quantidade: 2 Preço: 7.0 Descrição: Feijão\n",
      "Quantidade: 1 Preço: 25.0 Descrição: Arroz\n",
      "Quantidade: 1 Preço: 25.0 Descrição: Arroz\n",
      "\n",
      "Quantidade: 1 Preço: 7.0 Descrição: Óleo de soja\n",
      "Quantidade: 1 Preço: 15.0 Descrição: Café\n",
      "Quantidade: 2 Preço: 7.0 Descrição: Feijão\n",
      "Quantidade: 1 Preço: 25.0 Descrição: Arroz\n"
     ]
    }
   ],
   "source": [
    "lista = LinkedList()\n",
    "\n",
    "\n",
    "lista.inserir_no_inicio(1, 25.00, \"Arroz\")\n",
    "lista.inserir_no_inicio(1, 25.00, \"Arroz\")\n",
    "lista.inserir_no_inicio(2, 7.00, \"Feijão\")\n",
    "lista.inserir_no_inicio(1, 15.00, \"Café\")\n",
    "lista.inserir_no_inicio(1, 15.00, \"Café\")\n",
    "lista.inserir_no_inicio(1, 7.00, \"Óleo de soja\")\n",
    "\n",
    "\n",
    "\n",
    "lista.exibir_lista()\n",
    "\n",
    "print(\"\")\n",
    "\n",
    "lista.remover_duplicados()\n",
    "\n",
    "lista.exibir_lista()\n"
   ]
  }
 ],
 "metadata": {
  "kernelspec": {
   "display_name": "Python 3",
   "language": "python",
   "name": "python3"
  },
  "language_info": {
   "codemirror_mode": {
    "name": "ipython",
    "version": 3
   },
   "file_extension": ".py",
   "mimetype": "text/x-python",
   "name": "python",
   "nbconvert_exporter": "python",
   "pygments_lexer": "ipython3",
   "version": "3.13.1"
  }
 },
 "nbformat": 4,
 "nbformat_minor": 2
}
